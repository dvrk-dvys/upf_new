{
 "cells": [
  {
   "cell_type": "markdown",
   "metadata": {
    "id": "3Kj1ndnwyiYo"
   },
   "source": [
    "## Install the tweepy Python library"
   ]
  },
  {
   "cell_type": "code",
   "execution_count": 1,
   "metadata": {
    "colab": {
     "base_uri": "https://localhost:8080/"
    },
    "executionInfo": {
     "elapsed": 3789,
     "status": "ok",
     "timestamp": 1642797608868,
     "user": {
      "displayName": "CHARLES COCHRAN",
      "photoUrl": "https://lh3.googleusercontent.com/a-/AOh14GgHP1l1XYSr7vLVMxAm70tMBa8xV9bslx-n-QkN=s64",
      "userId": "06193943574162029643"
     },
     "user_tz": -60
    },
    "id": "9vaNX3Kkym6r",
    "outputId": "75d16f23-e9c1-4f16-a57b-07f000ac55ba"
   },
   "outputs": [
    {
     "name": "stdout",
     "output_type": "stream",
     "text": [
      "Requirement already satisfied: tweepy in /usr/local/lib/python3.7/dist-packages (3.10.0)\n",
      "Requirement already satisfied: six>=1.10.0 in /usr/local/lib/python3.7/dist-packages (from tweepy) (1.15.0)\n",
      "Requirement already satisfied: requests-oauthlib>=0.7.0 in /usr/local/lib/python3.7/dist-packages (from tweepy) (1.3.0)\n",
      "Requirement already satisfied: requests[socks]>=2.11.1 in /usr/local/lib/python3.7/dist-packages (from tweepy) (2.23.0)\n",
      "Requirement already satisfied: oauthlib>=3.0.0 in /usr/local/lib/python3.7/dist-packages (from requests-oauthlib>=0.7.0->tweepy) (3.1.1)\n",
      "Requirement already satisfied: certifi>=2017.4.17 in /usr/local/lib/python3.7/dist-packages (from requests[socks]>=2.11.1->tweepy) (2021.10.8)\n",
      "Requirement already satisfied: urllib3!=1.25.0,!=1.25.1,<1.26,>=1.21.1 in /usr/local/lib/python3.7/dist-packages (from requests[socks]>=2.11.1->tweepy) (1.24.3)\n",
      "Requirement already satisfied: chardet<4,>=3.0.2 in /usr/local/lib/python3.7/dist-packages (from requests[socks]>=2.11.1->tweepy) (3.0.4)\n",
      "Requirement already satisfied: idna<3,>=2.5 in /usr/local/lib/python3.7/dist-packages (from requests[socks]>=2.11.1->tweepy) (2.10)\n",
      "Requirement already satisfied: PySocks!=1.5.7,>=1.5.6 in /usr/local/lib/python3.7/dist-packages (from requests[socks]>=2.11.1->tweepy) (1.7.1)\n"
     ]
    }
   ],
   "source": [
    "!pip install tweepy"
   ]
  },
  {
   "cell_type": "markdown",
   "metadata": {
    "id": "VgMD48ihy0zg"
   },
   "source": [
    "# Streaming tweets and create a word cloud of the text"
   ]
  },
  {
   "cell_type": "markdown",
   "metadata": {
    "id": "Ir4aXHH4y7eh"
   },
   "source": [
    "### Set up a crawler for the Streaming API"
   ]
  },
  {
   "cell_type": "code",
   "execution_count": 2,
   "metadata": {
    "executionInfo": {
     "elapsed": 520,
     "status": "ok",
     "timestamp": 1642797612048,
     "user": {
      "displayName": "CHARLES COCHRAN",
      "photoUrl": "https://lh3.googleusercontent.com/a-/AOh14GgHP1l1XYSr7vLVMxAm70tMBa8xV9bslx-n-QkN=s64",
      "userId": "06193943574162029643"
     },
     "user_tz": -60
    },
    "id": "xDuqBHLvy4-B"
   },
   "outputs": [],
   "source": [
    "import tweepy\n",
    "import json\n",
    "from tweepy import OAuthHandler\n",
    "from tweepy import Stream\n",
    "from tweepy.streaming import StreamListener\n",
    " \n",
    "class MyListener(StreamListener):\n",
    "    \n",
    "    def __init__(self, api=None, max_tweets=10, json_tweets_file=None):\n",
    "        super(StreamListener, self).__init__()\n",
    "        self.num_tweets = 0\n",
    "        self.max_tweets = max_tweets\n",
    "        self.json_tweets_file = json_tweets_file\n",
    "\n",
    "    def on_data(self, data):\n",
    "        try:\n",
    "            with open(self.json_tweets_file, 'a') as f:\n",
    "                f.write(data) # This will store the whole JSON data in the file, you can perform some JSON filters\n",
    "                twitter_text = json.loads(data)['text'] # You can also print your tweets here\n",
    "                print (twitter_text.replace('\\n',' ').replace('\\r',' '))\n",
    "                self.num_tweets += 1\n",
    "                if self.num_tweets < self.max_tweets:\n",
    "                    return True\n",
    "                else:\n",
    "                    return False\n",
    "        except BaseException as e:\n",
    "            print(\"Error on_data: %s\" % str(e))\n",
    "        return True\n",
    "\n",
    "    def on_error(self, status):\n",
    "        print('Error :', status)\n",
    "        return False\n",
    "\n",
    "# Change the xxx values with your keys\n",
    "consumer_key = ''\n",
    "consumer_secret = ''\n",
    "access_token = ''\n",
    "access_secret = ''\n",
    "\n",
    "auth = OAuthHandler(consumer_key, consumer_secret)\n",
    "auth.set_access_token(access_token, access_secret)        "
   ]
  },
  {
   "cell_type": "code",
   "execution_count": 3,
   "metadata": {
    "colab": {
     "base_uri": "https://localhost:8080/"
    },
    "executionInfo": {
     "elapsed": 433,
     "status": "ok",
     "timestamp": 1642797619723,
     "user": {
      "displayName": "CHARLES COCHRAN",
      "photoUrl": "https://lh3.googleusercontent.com/a-/AOh14GgHP1l1XYSr7vLVMxAm70tMBa8xV9bslx-n-QkN=s64",
      "userId": "06193943574162029643"
     },
     "user_tz": -60
    },
    "id": "mjfmXr9U88q0",
    "outputId": "2bee86f4-bb44-47a1-f999-dc38c4e818b9"
   },
   "outputs": [
    {
     "name": "stdout",
     "output_type": "stream",
     "text": [
      "Error : 401\n",
      "_______ End _______\n"
     ]
    }
   ],
   "source": [
    "keywords = [\"coronavirus\",\"covid19\"]\n",
    "json_tweets_file = '_'.join(keywords)+'.jsonl'\n",
    "\n",
    "# You can increase this value to retrieve more tweets but remember the rate limiting\n",
    "max_tweets = 100 \n",
    "\n",
    "twitter_stream = Stream(auth, MyListener(json_tweets_file = json_tweets_file, max_tweets = max_tweets))\n",
    "\n",
    "# Add your keywords and other filters\n",
    "twitter_stream.filter(track=keywords) \n",
    "\n",
    "print('_______ End _______')"
   ]
  },
  {
   "cell_type": "markdown",
   "metadata": {
    "id": "KrU68EEDzaxE"
   },
   "source": [
    "### Load the JSON data as a dataframe for analysing"
   ]
  },
  {
   "cell_type": "code",
   "execution_count": null,
   "metadata": {
    "id": "xIRt_Lf5za86"
   },
   "outputs": [],
   "source": [
    "import pandas as pd\n",
    "\n",
    "with open(json_tweets_file) as f:\n",
    "    lines = f.read().splitlines()\n",
    "\n",
    "df_inter = pd.DataFrame(lines)\n",
    "df_inter.columns = ['json_element']    \n",
    "df_inter['json_element'].apply(json.loads)\n",
    "df = pd.json_normalize(df_inter['json_element'].apply(json.loads))\n",
    "print (len(df),'tweets')\n",
    "df.head()\n",
    "\n"
   ]
  },
  {
   "cell_type": "code",
   "execution_count": null,
   "metadata": {
    "id": "v9dLOXTig8YT"
   },
   "outputs": [],
   "source": [
    "len(df)"
   ]
  },
  {
   "cell_type": "markdown",
   "metadata": {
    "id": "kt8z3c0b-m88"
   },
   "source": [
    "### Generate a word cloud\n",
    "\n",
    "You can find many resources at the Internet, e.g., https://www.datacamp.com/community/tutorials/wordcloud-python"
   ]
  },
  {
   "cell_type": "code",
   "execution_count": null,
   "metadata": {
    "id": "TVKw42C3-ngb"
   },
   "outputs": [],
   "source": [
    "!pip install wordcloud"
   ]
  },
  {
   "cell_type": "code",
   "execution_count": null,
   "metadata": {
    "id": "23ii1P7Z-q8L"
   },
   "outputs": [],
   "source": [
    "from wordcloud import WordCloud, ImageColorGenerator\n",
    "import matplotlib.pyplot as plt\n",
    "\n",
    "..."
   ]
  },
  {
   "cell_type": "markdown",
   "metadata": {
    "id": "-Q_cSLxoakNc"
   },
   "source": [
    "# Search (old) tweets and create a word cloud of the text\n",
    "\n",
    "You should review the Tweetpy documentation of search methods: http://docs.tweepy.org/en/latest/api.html#search-methods"
   ]
  },
  {
   "cell_type": "code",
   "execution_count": null,
   "metadata": {
    "id": "-euWgps_bCk4"
   },
   "outputs": [],
   "source": [
    "..."
   ]
  }
 ],
 "metadata": {
  "colab": {
   "collapsed_sections": [],
   "name": "Session 2 - Twitter Streaming API.ipynb",
   "provenance": []
  },
  "kernelspec": {
   "display_name": "Python 3 (ipykernel)",
   "language": "python",
   "name": "python3"
  },
  "language_info": {
   "codemirror_mode": {
    "name": "ipython",
    "version": 3
   },
   "file_extension": ".py",
   "mimetype": "text/x-python",
   "name": "python",
   "nbconvert_exporter": "python",
   "pygments_lexer": "ipython3",
   "version": "3.9.10"
  }
 },
 "nbformat": 4,
 "nbformat_minor": 1
}
